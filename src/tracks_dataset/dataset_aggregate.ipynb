{
 "cells": [
  {
   "cell_type": "code",
   "execution_count": null,
   "id": "a42fdef4-8767-4537-b1b6-58f41792adac",
   "metadata": {},
   "outputs": [],
   "source": [
    "import numpy as np\n",
    "import pandas as pd\n",
    "import matplotlib.pyplot as plt\n",
    "%matplotlib inline\n",
    "import seaborn as sns"
   ]
  },
  {
   "cell_type": "code",
   "execution_count": null,
   "id": "29cc6f21-2e6d-42d3-9fc5-e4d28f64dd06",
   "metadata": {},
   "outputs": [],
   "source": [
    "df = pd.read_csv(\"data/dataset.csv\", encoding= 'unicode_escape')"
   ]
  },
  {
   "cell_type": "code",
   "execution_count": null,
   "id": "6615335e-4798-43de-aae4-68d3bf5cd420",
   "metadata": {},
   "outputs": [],
   "source": [
    "df.shape"
   ]
  },
  {
   "cell_type": "code",
   "execution_count": null,
   "id": "99d44799-6ada-4bde-940c-85d1e8c348d8",
   "metadata": {},
   "outputs": [],
   "source": [
    "df.head()"
   ]
  },
  {
   "cell_type": "code",
   "execution_count": null,
   "id": "3c6ccc54-a6b3-4f41-9181-c70f7b0738f6",
   "metadata": {},
   "outputs": [],
   "source": [
    "df.info()"
   ]
  },
  {
   "cell_type": "code",
   "execution_count": null,
   "id": "8fcfe0c3-76d5-4065-a7b9-8942b9a45055",
   "metadata": {},
   "outputs": [],
   "source": [
    "# Dropping unrealate columns\n",
    "df.drop(['Unnamed: 0','track_id','artists','album_name','track_name','duration_ms','explicit','key','mode','valence','tempo','time_signature'], axis=1, inplace=True)"
   ]
  },
  {
   "cell_type": "code",
   "execution_count": null,
   "id": "60d1fcea-a382-4c8c-99a1-369a642f1b59",
   "metadata": {},
   "outputs": [],
   "source": [
    "pd.isnull(df)"
   ]
  },
  {
   "cell_type": "code",
   "execution_count": null,
   "id": "97806d3e-ce36-43cf-aa0d-9c7065190ddb",
   "metadata": {},
   "outputs": [],
   "source": [
    "pd.isnull(df).sum()"
   ]
  },
  {
   "cell_type": "code",
   "execution_count": null,
   "id": "8945a6cd-0490-4ef6-b34d-b32791170292",
   "metadata": {},
   "outputs": [],
   "source": [
    "# Deleting null values\n",
    "df.dropna(inplace=True)"
   ]
  },
  {
   "cell_type": "code",
   "execution_count": null,
   "id": "9bb7af7d-e45c-46a5-8ab7-06c5118a8c52",
   "metadata": {},
   "outputs": [],
   "source": [
    "df.shape"
   ]
  },
  {
   "cell_type": "code",
   "execution_count": null,
   "id": "e94970af-371a-411e-bc09-baab65a2bb47",
   "metadata": {},
   "outputs": [],
   "source": [
    "# Group the DataFrame by the 'group' column\n",
    "grouped = df.groupby('track_genre')\n",
    "\n",
    "# Initialize an empty dictionary to store the results\n",
    "genre_stats = {}\n",
    "\n",
    "# Columns for which you want to calculate max, min, and mean\n",
    "features_to_aggregate = ['popularity','danceability','energy','loudness','speechiness','acousticness','instrumentalness','liveness']\n",
    "\n",
    "for genre, group in grouped:\n",
    "    genre_dict = {}\n",
    "    for feature in features_to_aggregate:\n",
    "        genre_dict[feature] = {\n",
    "            'max': group[feature].max(),\n",
    "            'min': group[feature].min(),\n",
    "            'mean': group[feature].mean()\n",
    "        }\n",
    "    genre_stats[genre] = genre_dict\n",
    "    \n",
    "print(genre_stats)"
   ]
  },
  {
   "cell_type": "code",
   "execution_count": null,
   "id": "86bdc0f7-7c1f-4c30-98f9-910efa373b61",
   "metadata": {},
   "outputs": [],
   "source": []
  }
 ],
 "metadata": {
  "kernelspec": {
   "display_name": "Python 3 (ipykernel)",
   "language": "python",
   "name": "python3"
  },
  "language_info": {
   "codemirror_mode": {
    "name": "ipython",
    "version": 3
   },
   "file_extension": ".py",
   "mimetype": "text/x-python",
   "name": "python",
   "nbconvert_exporter": "python",
   "pygments_lexer": "ipython3",
   "version": "3.10.9"
  }
 },
 "nbformat": 4,
 "nbformat_minor": 5
}
